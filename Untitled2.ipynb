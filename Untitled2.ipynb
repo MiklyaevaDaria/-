{
  "nbformat": 4,
  "nbformat_minor": 0,
  "metadata": {
    "colab": {
      "provenance": []
    },
    "kernelspec": {
      "name": "python3",
      "display_name": "Python 3"
    },
    "language_info": {
      "name": "python"
    }
  },
  "cells": [
    {
      "cell_type": "code",
      "execution_count": 1,
      "metadata": {
        "id": "RGn0IzQOL427"
      },
      "outputs": [],
      "source": [
        "import pandas as pd\n",
        "import numpy as np\n",
        "from scipy.stats import ks_2samp\n",
        "\n",
        "chat_id = 819168380\n",
        "\n",
        "def solution(x: np.array, y: np.array) -> bool:\n",
        "    p_value = ks_2samp(x, y).pvalue #тест Колмогорова-Смирнова\n",
        "    return p_value < 0.03"
      ]
    }
  ]
}